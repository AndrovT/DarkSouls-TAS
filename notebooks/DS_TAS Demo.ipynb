{
 "cells": [
  {
   "cell_type": "markdown",
   "metadata": {},
   "source": [
    "# TAS Demo Example\n",
    "\n",
    "This is a series of demos of a TAS tool for Dark Souls\n",
    "\n",
    "Currently it's ok for a short series of commands but not so good for a longer section (this may be due to mouselook)"
   ]
  },
  {
   "cell_type": "markdown",
   "metadata": {},
   "source": [
    "First we setup and import the necessary commands"
   ]
  },
  {
   "cell_type": "code",
   "execution_count": null,
   "metadata": {},
   "outputs": [],
   "source": [
    "# Path hack don't worry about this\n",
    "import sys\n",
    "from pathlib import Path\n",
    "sys.path.append(str(Path('..')))"
   ]
  },
  {
   "cell_type": "code",
   "execution_count": null,
   "metadata": {},
   "outputs": [],
   "source": [
    "# Import main tools\n",
    "from ds_tas.controller import KeyPress, KeySequence\n",
    "from ds_tas.basics import *  # Look in the module for the commands\n",
    "\n",
    "# Import some predefined scripts\n",
    "from ds_tas.scripts import glitches"
   ]
  },
  {
   "cell_type": "markdown",
   "metadata": {},
   "source": [
    "Test waiting to see if there's a bug where it does the last button press repeatedly"
   ]
  },
  {
   "cell_type": "code",
   "execution_count": null,
   "metadata": {},
   "outputs": [],
   "source": [
    "waitfor(60).execute()"
   ]
  },
  {
   "cell_type": "markdown",
   "metadata": {},
   "source": [
    "# Button Presses\n",
    "\n",
    "Look in scripts/basics.py for the list of button press commands."
   ]
  },
  {
   "cell_type": "markdown",
   "metadata": {},
   "source": [
    "## Combining Commands\n",
    "\n",
    "You can start building some KeySequences using these commands\n",
    "\n",
    "You can use + to call commands sequentially or you can make a list and create a new KeySequence from the list. (eg: `b + r1` will press b then r1).\n",
    "\n",
    "The & operator can be used to combine button presses. (eg: `b & r1` will press both buttons at the same time).\n",
    "\n",
    "Once a sequence has been built calling .execute() on the sequence will run it in the game.\n",
    "\n",
    "Here are some simple examples."
   ]
  },
  {
   "cell_type": "code",
   "execution_count": null,
   "metadata": {},
   "outputs": [],
   "source": [
    "wave = select + right + a"
   ]
  },
  {
   "cell_type": "code",
   "execution_count": null,
   "metadata": {},
   "outputs": [],
   "source": [
    "wave.execute()"
   ]
  },
  {
   "cell_type": "code",
   "execution_count": null,
   "metadata": {},
   "outputs": [],
   "source": [
    "# Open the start menu and wait for the delay frames to pass\n",
    "start_menu = KeySequence([\n",
    "    start,\n",
    "    waitfor(5)\n",
    "])"
   ]
  },
  {
   "cell_type": "code",
   "execution_count": null,
   "metadata": {},
   "outputs": [],
   "source": [
    "# Open and close the start menu\n",
    "start_menu.execute()\n",
    "waitfor(30).execute()\n",
    "start_menu.execute()"
   ]
  },
  {
   "cell_type": "markdown",
   "metadata": {},
   "source": [
    "## \"Literally Cheating\"\n",
    "\n",
    "These presses can be combined to easily perform some tricky glitches."
   ]
  },
  {
   "cell_type": "markdown",
   "metadata": {},
   "source": [
    "### Moveswap\n",
    "\n",
    "First define the basic moveswap sequence, this is what you would call in the middle of the animation you wish to moveswap from."
   ]
  },
  {
   "cell_type": "code",
   "execution_count": null,
   "metadata": {},
   "outputs": [],
   "source": [
    "# Change swap_up to True if you want to moveswap to the weapon above your bow.\n",
    "# Change too_heavy to True if you are not strong enough to one-hand the weapon.\n",
    "\n",
    "def moveswap(swap_up=False, too_heavy=False):\n",
    "    return KeySequence([\n",
    "        l1,\n",
    "        start_menu,\n",
    "        right,\n",
    "        a,\n",
    "        wait,\n",
    "        down,\n",
    "        a,\n",
    "        waitfor(2),\n",
    "        up if swap_up else down,\n",
    "        a,\n",
    "        waitfor(2),\n",
    "        start,\n",
    "        waitfor(2),\n",
    "        start if too_heavy else wait\n",
    "    ])"
   ]
  },
  {
   "cell_type": "markdown",
   "metadata": {},
   "source": [
    "Define the action you wish to moveswap from - in this case a roll."
   ]
  },
  {
   "cell_type": "code",
   "execution_count": null,
   "metadata": {},
   "outputs": [],
   "source": [
    "roll = runfor(10) + (run & b)"
   ]
  },
  {
   "cell_type": "code",
   "execution_count": null,
   "metadata": {},
   "outputs": [],
   "source": [
    "roll.execute()"
   ]
  },
  {
   "cell_type": "markdown",
   "metadata": {},
   "source": [
    "Now combine the roll command with a delay and then moveswap after the delay to perform the full moveswap glitch."
   ]
  },
  {
   "cell_type": "code",
   "execution_count": null,
   "metadata": {},
   "outputs": [],
   "source": [
    "roll_moveswap_down = roll + waitfor(10) + moveswap()"
   ]
  },
  {
   "cell_type": "code",
   "execution_count": null,
   "metadata": {},
   "outputs": [],
   "source": [
    "roll_moveswap_down"
   ]
  },
  {
   "cell_type": "code",
   "execution_count": null,
   "metadata": {},
   "outputs": [],
   "source": [
    "roll_moveswap_down.execute()"
   ]
  },
  {
   "cell_type": "markdown",
   "metadata": {},
   "source": [
    "Perform a running attack to demonstrate that moveswap was successful."
   ]
  },
  {
   "cell_type": "code",
   "execution_count": null,
   "metadata": {},
   "outputs": [],
   "source": [
    "running_attack = KeySequence([\n",
    "    waitfor(30) & run & b,\n",
    "    run & b & r1,\n",
    "    waitfor(60)\n",
    "])\n",
    "running_attack.execute()"
   ]
  },
  {
   "cell_type": "markdown",
   "metadata": {},
   "source": [
    "Reset to the original weapon/bow configuration"
   ]
  },
  {
   "cell_type": "code",
   "execution_count": null,
   "metadata": {},
   "outputs": [],
   "source": [
    "# Predefined reset script\n",
    "glitches.reset_moveswap(swapped_up=False).execute()\n",
    "waitfor(30).execute()\n",
    "(run_back * 5).execute()"
   ]
  },
  {
   "cell_type": "markdown",
   "metadata": {},
   "source": [
    "If 'Joy' is in the default gesture spot define a sequence to perform that gesture."
   ]
  },
  {
   "cell_type": "code",
   "execution_count": null,
   "metadata": {},
   "outputs": [],
   "source": [
    "joy = KeySequence([\n",
    "    select,\n",
    "    right,\n",
    "    wait,\n",
    "    right,\n",
    "    wait,\n",
    "    right,\n",
    "    a,\n",
    "])"
   ]
  },
  {
   "cell_type": "code",
   "execution_count": null,
   "metadata": {},
   "outputs": [],
   "source": [
    "joy.execute()"
   ]
  },
  {
   "cell_type": "markdown",
   "metadata": {},
   "source": [
    "Combine with moveswap to perform the moveswap at the end of the gesture."
   ]
  },
  {
   "cell_type": "code",
   "execution_count": null,
   "metadata": {},
   "outputs": [],
   "source": [
    "joy_moveswap = joy + waitfor(100) + moveswap()"
   ]
  },
  {
   "cell_type": "code",
   "execution_count": null,
   "metadata": {},
   "outputs": [],
   "source": [
    "joy_moveswap.execute()"
   ]
  },
  {
   "cell_type": "code",
   "execution_count": null,
   "metadata": {},
   "outputs": [],
   "source": [
    "glitches.reset_moveswap(swapped_up=False).execute()"
   ]
  },
  {
   "cell_type": "markdown",
   "metadata": {},
   "source": [
    "## Recording and Playback\n",
    "\n",
    "You can also record and playback player inputs by using the alternate constructor `KeySequence.record`."
   ]
  },
  {
   "cell_type": "code",
   "execution_count": null,
   "metadata": {},
   "outputs": [],
   "source": [
    "# start_delay gives time to get the game open and ready\n",
    "# button_wait will wait until a button is pressed before \n",
    "# recording the first input\n",
    "# This will not be triggered by the joysticks, dpad or l2/r2\n",
    "\n",
    "dupe = KeySequence.record(start_delay=15, button_wait=True)"
   ]
  },
  {
   "cell_type": "code",
   "execution_count": null,
   "metadata": {},
   "outputs": [],
   "source": [
    "len(dupe)  # How many keypresses have been recorded"
   ]
  },
  {
   "cell_type": "code",
   "execution_count": null,
   "metadata": {},
   "outputs": [],
   "source": [
    "# Replay the sequence\n",
    "dupe.execute()"
   ]
  },
  {
   "cell_type": "markdown",
   "metadata": {},
   "source": [
    "Done!"
   ]
  },
  {
   "cell_type": "code",
   "execution_count": null,
   "metadata": {},
   "outputs": [],
   "source": [
    "quitout = KeySequence([\n",
    "    start_menu,\n",
    "    left,\n",
    "    a,\n",
    "    wait,\n",
    "    up,\n",
    "    a,\n",
    "    wait,\n",
    "    left,\n",
    "    a\n",
    "])"
   ]
  },
  {
   "cell_type": "code",
   "execution_count": null,
   "metadata": {},
   "outputs": [],
   "source": [
    "quitout.execute()"
   ]
  }
 ],
 "metadata": {
  "kernelspec": {
   "display_name": "Python 3",
   "language": "python",
   "name": "python3"
  },
  "language_info": {
   "codemirror_mode": {
    "name": "ipython",
    "version": 3
   },
   "file_extension": ".py",
   "mimetype": "text/x-python",
   "name": "python",
   "nbconvert_exporter": "python",
   "pygments_lexer": "ipython3",
   "version": "3.6.3"
  }
 },
 "nbformat": 4,
 "nbformat_minor": 2
}
