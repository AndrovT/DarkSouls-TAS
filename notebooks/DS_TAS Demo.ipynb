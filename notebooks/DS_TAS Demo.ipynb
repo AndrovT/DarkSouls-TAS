{
 "cells": [
  {
   "cell_type": "markdown",
   "metadata": {},
   "source": [
    "# TAS Demo Example\n",
    "\n",
    "This is a series of demos of a TAS tool for Dark Souls\n",
    "\n",
    "Currently it's ok for a short series of commands but not so good for a longer section (this may be due to mouselook)"
   ]
  },
  {
   "cell_type": "markdown",
   "metadata": {},
   "source": [
    "First we setup and import the necessary commands"
   ]
  },
  {
   "cell_type": "code",
   "execution_count": null,
   "metadata": {},
   "outputs": [],
   "source": [
    "# Path hack don't worry about this\n",
    "import sys\n",
    "from pathlib import Path\n",
    "sys.path.append(str(Path('..')))"
   ]
  },
  {
   "cell_type": "code",
   "execution_count": null,
   "metadata": {},
   "outputs": [],
   "source": [
    "# Import main tools\n",
    "from ds_tas import KeyPress, KeySequence\n",
    "\n",
    "# Import some predefined scripts\n",
    "from ds_tas import scripts"
   ]
  },
  {
   "cell_type": "markdown",
   "metadata": {},
   "source": [
    "### Define some short 'helper' commands and variables."
   ]
  },
  {
   "cell_type": "code",
   "execution_count": null,
   "metadata": {},
   "outputs": [],
   "source": [
    "def wait(frames=1):\n",
    "    return KeyPress(frames)"
   ]
  },
  {
   "cell_type": "markdown",
   "metadata": {},
   "source": [
    "Wait for 60 frames\n",
    "\n",
    "This is mainly a test to see if the mouse click is stuck - if so on taking control the character will attack and the whole sequence will fail"
   ]
  },
  {
   "cell_type": "code",
   "execution_count": null,
   "metadata": {},
   "outputs": [],
   "source": [
    "wait(60).execute()"
   ]
  },
  {
   "cell_type": "code",
   "execution_count": null,
   "metadata": {},
   "outputs": [],
   "source": [
    "start = KeyPress(start=1)\n",
    "select = KeyPress(back=1)\n",
    "up = KeyPress(dpad_up=1)\n",
    "down = KeyPress(dpad_down=1)\n",
    "left = KeyPress(dpad_left=1)\n",
    "right = KeyPress(dpad_right=1)\n",
    "a = KeyPress(a=1)\n",
    "b = KeyPress(b=1)\n",
    "x = KeyPress(x=1)\n",
    "y = KeyPress(y=1)\n",
    "l1 = KeyPress(l1=1)\n",
    "r1 = KeyPress(r1=1)"
   ]
  },
  {
   "cell_type": "code",
   "execution_count": null,
   "metadata": {},
   "outputs": [],
   "source": [
    "run_speed = 32767\n",
    "walk_speed = 26500\n",
    "\n",
    "def run(frames):\n",
    "    return KeyPress(frames=frames, l_thumb_y=run_speed)\n",
    "\n",
    "def walk(frames):\n",
    "    return KeyPress(frames=frames, l_thumb_y=walk_speed)"
   ]
  },
  {
   "cell_type": "code",
   "execution_count": null,
   "metadata": {},
   "outputs": [],
   "source": [
    "turn = KeyPress(frames=10, l_thumb_y=-run_speed)"
   ]
  },
  {
   "cell_type": "markdown",
   "metadata": {},
   "source": [
    "## Combining Commands\n",
    "\n",
    "Now we can start building some KeySequences using these commands"
   ]
  },
  {
   "cell_type": "code",
   "execution_count": null,
   "metadata": {},
   "outputs": [],
   "source": [
    "wave = select + wait(10) + right + wait(2) + a"
   ]
  },
  {
   "cell_type": "code",
   "execution_count": null,
   "metadata": {},
   "outputs": [],
   "source": [
    "wave.execute()"
   ]
  },
  {
   "cell_type": "code",
   "execution_count": null,
   "metadata": {},
   "outputs": [],
   "source": [
    "start_menu = KeySequence([\n",
    "    start,\n",
    "    wait(5)\n",
    "])"
   ]
  },
  {
   "cell_type": "code",
   "execution_count": null,
   "metadata": {},
   "outputs": [],
   "source": [
    "start_menu.execute()\n",
    "wait(30).execute()\n",
    "start_menu.execute()"
   ]
  },
  {
   "cell_type": "markdown",
   "metadata": {},
   "source": [
    "## \"Literally Cheating\""
   ]
  },
  {
   "cell_type": "markdown",
   "metadata": {},
   "source": [
    "Moveswap"
   ]
  },
  {
   "cell_type": "code",
   "execution_count": null,
   "metadata": {},
   "outputs": [],
   "source": [
    "def moveswap(swap_up=False):\n",
    "    return KeySequence([\n",
    "        l1,\n",
    "        start_menu,\n",
    "        right,\n",
    "        a,\n",
    "        wait(),\n",
    "        down,\n",
    "        a,\n",
    "        wait(2),\n",
    "        up if swap_up else down,\n",
    "        a,\n",
    "        wait(2),\n",
    "        start,\n",
    "        wait(2),\n",
    "        start\n",
    "    ])"
   ]
  },
  {
   "cell_type": "code",
   "execution_count": null,
   "metadata": {},
   "outputs": [],
   "source": [
    "roll = run(10) + KeyPress(l_thumb_y=run_speed, b=1)"
   ]
  },
  {
   "cell_type": "code",
   "execution_count": null,
   "metadata": {},
   "outputs": [],
   "source": [
    "roll.execute()"
   ]
  },
  {
   "cell_type": "code",
   "execution_count": null,
   "metadata": {},
   "outputs": [],
   "source": [
    "roll_moveswap_down = roll + wait(10) + moveswap()"
   ]
  },
  {
   "cell_type": "code",
   "execution_count": null,
   "metadata": {},
   "outputs": [],
   "source": [
    "roll_moveswap_down"
   ]
  },
  {
   "cell_type": "code",
   "execution_count": null,
   "metadata": {},
   "outputs": [],
   "source": [
    "roll_moveswap_down.execute()"
   ]
  },
  {
   "cell_type": "markdown",
   "metadata": {},
   "source": [
    "Show moveswap"
   ]
  },
  {
   "cell_type": "code",
   "execution_count": null,
   "metadata": {},
   "outputs": [],
   "source": [
    "running_attack = KeySequence([\n",
    "    KeyPress(frames=30, l_thumb_y=run_speed, b=1),\n",
    "    KeyPress(l_thumb_y=run_speed, b=1, r1=1),\n",
    "    wait(60)\n",
    "])\n",
    "running_attack.execute()"
   ]
  },
  {
   "cell_type": "code",
   "execution_count": null,
   "metadata": {},
   "outputs": [],
   "source": [
    "# Predefined reset script\n",
    "scripts.reset_down.execute()\n",
    "KeyPress(30).execute()\n",
    "turn.execute()"
   ]
  },
  {
   "cell_type": "markdown",
   "metadata": {},
   "source": [
    "Moveswap on Joy animation"
   ]
  },
  {
   "cell_type": "code",
   "execution_count": null,
   "metadata": {},
   "outputs": [],
   "source": [
    "joy = KeySequence([\n",
    "    KeyPress(frames=1, back=1),\n",
    "    KeyPress(frames=1, dpad_right=1),\n",
    "    KeyPress(frames=1),\n",
    "    KeyPress(frames=1, dpad_right=1),\n",
    "    KeyPress(frames=1),\n",
    "    KeyPress(frames=1, dpad_right=1),\n",
    "    KeyPress(frames=1, a=1)\n",
    "])"
   ]
  },
  {
   "cell_type": "code",
   "execution_count": null,
   "metadata": {},
   "outputs": [],
   "source": [
    "joy.execute()"
   ]
  },
  {
   "cell_type": "code",
   "execution_count": null,
   "metadata": {},
   "outputs": [],
   "source": [
    "joy_moveswap = joy + wait(100) + moveswap()"
   ]
  },
  {
   "cell_type": "code",
   "execution_count": null,
   "metadata": {},
   "outputs": [],
   "source": [
    "joy_moveswap.execute()"
   ]
  },
  {
   "cell_type": "code",
   "execution_count": null,
   "metadata": {},
   "outputs": [],
   "source": [
    "scripts.reset_down.execute()"
   ]
  },
  {
   "cell_type": "markdown",
   "metadata": {},
   "source": [
    "Record and Playback"
   ]
  },
  {
   "cell_type": "code",
   "execution_count": null,
   "metadata": {},
   "outputs": [],
   "source": [
    "dupe = KeySequence.record(start_delay=15, button_wait=True)"
   ]
  },
  {
   "cell_type": "code",
   "execution_count": null,
   "metadata": {},
   "outputs": [],
   "source": [
    "len(dupe)  # A bit long to print out"
   ]
  },
  {
   "cell_type": "code",
   "execution_count": null,
   "metadata": {},
   "outputs": [],
   "source": [
    "# I hope this works\n",
    "dupe.execute()"
   ]
  },
  {
   "cell_type": "markdown",
   "metadata": {},
   "source": [
    "Done!"
   ]
  },
  {
   "cell_type": "code",
   "execution_count": null,
   "metadata": {},
   "outputs": [],
   "source": [
    "quitout = KeySequence([\n",
    "    start_menu,\n",
    "    left,\n",
    "    a,\n",
    "    wait(1),\n",
    "    up,\n",
    "    a,\n",
    "    wait(1),\n",
    "    left,\n",
    "    a\n",
    "])"
   ]
  },
  {
   "cell_type": "code",
   "execution_count": null,
   "metadata": {},
   "outputs": [],
   "source": [
    "quitout.execute()"
   ]
  }
 ],
 "metadata": {
  "kernelspec": {
   "display_name": "Python 3",
   "language": "python",
   "name": "python3"
  },
  "language_info": {
   "codemirror_mode": {
    "name": "ipython",
    "version": 3
   },
   "file_extension": ".py",
   "mimetype": "text/x-python",
   "name": "python",
   "nbconvert_exporter": "python",
   "pygments_lexer": "ipython3",
   "version": "3.6.3"
  }
 },
 "nbformat": 4,
 "nbformat_minor": 2
}
